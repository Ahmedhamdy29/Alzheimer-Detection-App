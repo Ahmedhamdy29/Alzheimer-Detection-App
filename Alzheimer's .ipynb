{
 "cells": [
  {
   "cell_type": "code",
   "execution_count": 1,
   "id": "31b5bf0a",
   "metadata": {
    "_cell_guid": "b1076dfc-b9ad-4769-8c92-a6c4dae69d19",
    "_uuid": "8f2839f25d086af736a60e9eeb907d3b93b6e0e5",
    "execution": {
     "iopub.execute_input": "2025-08-18T07:29:14.434551Z",
     "iopub.status.busy": "2025-08-18T07:29:14.434190Z",
     "iopub.status.idle": "2025-08-18T07:29:14.466083Z",
     "shell.execute_reply": "2025-08-18T07:29:14.465262Z"
    },
    "papermill": {
     "duration": 0.037263,
     "end_time": "2025-08-18T07:29:14.467371",
     "exception": false,
     "start_time": "2025-08-18T07:29:14.430108",
     "status": "completed"
    },
    "tags": []
   },
   "outputs": [
    {
     "name": "stdout",
     "output_type": "stream",
     "text": [
      "['val', 'test', 'train']\n"
     ]
    }
   ],
   "source": [
    "import os\n",
    "print(os.listdir(\"/kaggle/input/alzheimer-disease-dataset/Alzheimer_Dataset_V2\"))\n",
    "\n"
   ]
  },
  {
   "cell_type": "code",
   "execution_count": 2,
   "id": "b56f9423",
   "metadata": {
    "execution": {
     "iopub.execute_input": "2025-08-18T07:29:14.473196Z",
     "iopub.status.busy": "2025-08-18T07:29:14.472926Z",
     "iopub.status.idle": "2025-08-18T07:29:30.518056Z",
     "shell.execute_reply": "2025-08-18T07:29:30.517372Z"
    },
    "papermill": {
     "duration": 16.049439,
     "end_time": "2025-08-18T07:29:30.519610",
     "exception": false,
     "start_time": "2025-08-18T07:29:14.470171",
     "status": "completed"
    },
    "tags": []
   },
   "outputs": [
    {
     "name": "stderr",
     "output_type": "stream",
     "text": [
      "2025-08-18 07:29:16.070513: E external/local_xla/xla/stream_executor/cuda/cuda_fft.cc:477] Unable to register cuFFT factory: Attempting to register factory for plugin cuFFT when one has already been registered\n",
      "WARNING: All log messages before absl::InitializeLog() is called are written to STDERR\n",
      "E0000 00:00:1755502156.273872      19 cuda_dnn.cc:8310] Unable to register cuDNN factory: Attempting to register factory for plugin cuDNN when one has already been registered\n",
      "E0000 00:00:1755502156.334119      19 cuda_blas.cc:1418] Unable to register cuBLAS factory: Attempting to register factory for plugin cuBLAS when one has already been registered\n"
     ]
    }
   ],
   "source": [
    "import tensorflow as tf\n",
    "import os\n",
    "import numpy as np\n",
    "from tensorflow.keras import layers,models\n",
    "from tensorflow.keras.callbacks import  ModelCheckpoint, EarlyStopping\n",
    "import matplotlib.pyplot as plt\n",
    "from sklearn.metrics import classification_report\n",
    "\n",
    "from sklearn.metrics import confusion_matrix\n",
    "import seaborn as sns\n",
    "\n",
    "\n"
   ]
  },
  {
   "cell_type": "code",
   "execution_count": 3,
   "id": "2252799e",
   "metadata": {
    "execution": {
     "iopub.execute_input": "2025-08-18T07:29:30.526637Z",
     "iopub.status.busy": "2025-08-18T07:29:30.525891Z",
     "iopub.status.idle": "2025-08-18T07:30:58.545241Z",
     "shell.execute_reply": "2025-08-18T07:30:58.544462Z"
    },
    "papermill": {
     "duration": 88.02666,
     "end_time": "2025-08-18T07:30:58.549064",
     "exception": false,
     "start_time": "2025-08-18T07:29:30.522404",
     "status": "completed"
    },
    "tags": []
   },
   "outputs": [
    {
     "name": "stdout",
     "output_type": "stream",
     "text": [
      "Found 23788 files belonging to 4 classes.\n"
     ]
    },
    {
     "name": "stderr",
     "output_type": "stream",
     "text": [
      "I0000 00:00:1755502196.273766      19 gpu_device.cc:2022] Created device /job:localhost/replica:0/task:0/device:GPU:0 with 15513 MB memory:  -> device: 0, name: Tesla P100-PCIE-16GB, pci bus id: 0000:00:04.0, compute capability: 6.0\n"
     ]
    },
    {
     "name": "stdout",
     "output_type": "stream",
     "text": [
      "Found 5097 files belonging to 4 classes.\n",
      "Found 5099 files belonging to 4 classes.\n",
      "Train counts per class: {'t': 6272, 'r': 4524, 'a': 6720, 'i': 6272}\n",
      "Class weights: {0: 0.9481823979591837, 1: 1.3145446507515473, 2: 0.8849702380952381, 3: 0.9481823979591837}\n"
     ]
    }
   ],
   "source": [
    "data_dir=r\"/kaggle/input/alzheimer-disease-dataset/Alzheimer_Dataset_V2\"\n",
    "\n",
    "img_size=(224,224)\n",
    "batch_size=32\n",
    "\n",
    "def compute_class_weights(dataset, n_classes):\n",
    "    counts = np.zeros(n_classes, dtype=np.int64)  # مصفوفة لحساب عدد الصور في كل كلاس\n",
    "    for _, y in dataset.unbatch():  # نفكّ الـ batch ونعدّ الصور\n",
    "        counts[y.numpy()] += 1\n",
    "    total = counts.sum()  # العدد الكلي للصور\n",
    "    weights = {i: float(total) / (n_classes * counts[i]) for i in range(n_classes)}  # نحسب الوزن\n",
    "    return counts, weights\n",
    "\n",
    "\n",
    "num_classes = 4\n",
    "\n",
    "train_ds=tf.keras.utils.image_dataset_from_directory(\n",
    "        os.path.join(data_dir, \"train\"),\n",
    "        labels=\"inferred\", \n",
    "        label_mode=\"int\", \n",
    "        image_size=img_size, \n",
    "        batch_size=batch_size, \n",
    "        shuffle=True\n",
    "    )\n",
    "\n",
    "\n",
    "\n",
    "\n",
    "val_ds=tf.keras.utils.image_dataset_from_directory(\n",
    "        os.path.join(data_dir, \"val\"),\n",
    "        labels=\"inferred\", \n",
    "        label_mode=\"int\", \n",
    "        image_size=img_size, \n",
    "        batch_size=batch_size, \n",
    "        shuffle=False)\n",
    "\n",
    "\n",
    "test_ds=tf.keras.utils.image_dataset_from_directory(\n",
    "        os.path.join(data_dir, \"test\"),\n",
    "        labels=\"inferred\", \n",
    "        label_mode=\"int\", \n",
    "        image_size=img_size, \n",
    "        batch_size=batch_size, \n",
    "        shuffle=False)\n",
    "\n",
    "\n",
    "train_counts, class_weight = compute_class_weights(\n",
    "    train_ds,\n",
    "    num_classes)\n",
    "\n",
    "# طباعة النتائج\n",
    "print(\"Train counts per class:\", dict(zip(\"train\", train_counts)))\n",
    "print(\"Class weights:\", class_weight)\n"
   ]
  },
  {
   "cell_type": "code",
   "execution_count": 4,
   "id": "a8f199d7",
   "metadata": {
    "execution": {
     "iopub.execute_input": "2025-08-18T07:30:58.555278Z",
     "iopub.status.busy": "2025-08-18T07:30:58.555029Z",
     "iopub.status.idle": "2025-08-18T07:30:59.351313Z",
     "shell.execute_reply": "2025-08-18T07:30:59.350572Z"
    },
    "papermill": {
     "duration": 0.800845,
     "end_time": "2025-08-18T07:30:59.352527",
     "exception": false,
     "start_time": "2025-08-18T07:30:58.551682",
     "status": "completed"
    },
    "tags": []
   },
   "outputs": [
    {
     "name": "stderr",
     "output_type": "stream",
     "text": [
      "/usr/local/lib/python3.11/dist-packages/keras/src/layers/preprocessing/tf_data_layer.py:19: UserWarning: Do not pass an `input_shape`/`input_dim` argument to a layer. When using Sequential models, prefer using an `Input(shape)` object as the first layer in the model instead.\n",
      "  super().__init__(**kwargs)\n"
     ]
    },
    {
     "data": {
      "text/html": [
       "<pre style=\"white-space:pre;overflow-x:auto;line-height:normal;font-family:Menlo,'DejaVu Sans Mono',consolas,'Courier New',monospace\"><span style=\"font-weight: bold\">Model: \"sequential\"</span>\n",
       "</pre>\n"
      ],
      "text/plain": [
       "\u001b[1mModel: \"sequential\"\u001b[0m\n"
      ]
     },
     "metadata": {},
     "output_type": "display_data"
    },
    {
     "data": {
      "text/html": [
       "<pre style=\"white-space:pre;overflow-x:auto;line-height:normal;font-family:Menlo,'DejaVu Sans Mono',consolas,'Courier New',monospace\">┏━━━━━━━━━━━━━━━━━━━━━━━━━━━━━━━━━┳━━━━━━━━━━━━━━━━━━━━━━━━┳━━━━━━━━━━━━━━━┓\n",
       "┃<span style=\"font-weight: bold\"> Layer (type)                    </span>┃<span style=\"font-weight: bold\"> Output Shape           </span>┃<span style=\"font-weight: bold\">       Param # </span>┃\n",
       "┡━━━━━━━━━━━━━━━━━━━━━━━━━━━━━━━━━╇━━━━━━━━━━━━━━━━━━━━━━━━╇━━━━━━━━━━━━━━━┩\n",
       "│ rescaling (<span style=\"color: #0087ff; text-decoration-color: #0087ff\">Rescaling</span>)           │ (<span style=\"color: #00d7ff; text-decoration-color: #00d7ff\">None</span>, <span style=\"color: #00af00; text-decoration-color: #00af00\">224</span>, <span style=\"color: #00af00; text-decoration-color: #00af00\">224</span>, <span style=\"color: #00af00; text-decoration-color: #00af00\">3</span>)    │             <span style=\"color: #00af00; text-decoration-color: #00af00\">0</span> │\n",
       "├─────────────────────────────────┼────────────────────────┼───────────────┤\n",
       "│ conv2d (<span style=\"color: #0087ff; text-decoration-color: #0087ff\">Conv2D</span>)                 │ (<span style=\"color: #00d7ff; text-decoration-color: #00d7ff\">None</span>, <span style=\"color: #00af00; text-decoration-color: #00af00\">224</span>, <span style=\"color: #00af00; text-decoration-color: #00af00\">224</span>, <span style=\"color: #00af00; text-decoration-color: #00af00\">32</span>)   │           <span style=\"color: #00af00; text-decoration-color: #00af00\">896</span> │\n",
       "├─────────────────────────────────┼────────────────────────┼───────────────┤\n",
       "│ max_pooling2d (<span style=\"color: #0087ff; text-decoration-color: #0087ff\">MaxPooling2D</span>)    │ (<span style=\"color: #00d7ff; text-decoration-color: #00d7ff\">None</span>, <span style=\"color: #00af00; text-decoration-color: #00af00\">74</span>, <span style=\"color: #00af00; text-decoration-color: #00af00\">74</span>, <span style=\"color: #00af00; text-decoration-color: #00af00\">32</span>)     │             <span style=\"color: #00af00; text-decoration-color: #00af00\">0</span> │\n",
       "├─────────────────────────────────┼────────────────────────┼───────────────┤\n",
       "│ conv2d_1 (<span style=\"color: #0087ff; text-decoration-color: #0087ff\">Conv2D</span>)               │ (<span style=\"color: #00d7ff; text-decoration-color: #00d7ff\">None</span>, <span style=\"color: #00af00; text-decoration-color: #00af00\">74</span>, <span style=\"color: #00af00; text-decoration-color: #00af00\">74</span>, <span style=\"color: #00af00; text-decoration-color: #00af00\">64</span>)     │        <span style=\"color: #00af00; text-decoration-color: #00af00\">51,264</span> │\n",
       "├─────────────────────────────────┼────────────────────────┼───────────────┤\n",
       "│ max_pooling2d_1 (<span style=\"color: #0087ff; text-decoration-color: #0087ff\">MaxPooling2D</span>)  │ (<span style=\"color: #00d7ff; text-decoration-color: #00d7ff\">None</span>, <span style=\"color: #00af00; text-decoration-color: #00af00\">37</span>, <span style=\"color: #00af00; text-decoration-color: #00af00\">37</span>, <span style=\"color: #00af00; text-decoration-color: #00af00\">64</span>)     │             <span style=\"color: #00af00; text-decoration-color: #00af00\">0</span> │\n",
       "├─────────────────────────────────┼────────────────────────┼───────────────┤\n",
       "│ conv2d_2 (<span style=\"color: #0087ff; text-decoration-color: #0087ff\">Conv2D</span>)               │ (<span style=\"color: #00d7ff; text-decoration-color: #00d7ff\">None</span>, <span style=\"color: #00af00; text-decoration-color: #00af00\">37</span>, <span style=\"color: #00af00; text-decoration-color: #00af00\">37</span>, <span style=\"color: #00af00; text-decoration-color: #00af00\">128</span>)    │       <span style=\"color: #00af00; text-decoration-color: #00af00\">204,928</span> │\n",
       "├─────────────────────────────────┼────────────────────────┼───────────────┤\n",
       "│ max_pooling2d_2 (<span style=\"color: #0087ff; text-decoration-color: #0087ff\">MaxPooling2D</span>)  │ (<span style=\"color: #00d7ff; text-decoration-color: #00d7ff\">None</span>, <span style=\"color: #00af00; text-decoration-color: #00af00\">18</span>, <span style=\"color: #00af00; text-decoration-color: #00af00\">18</span>, <span style=\"color: #00af00; text-decoration-color: #00af00\">128</span>)    │             <span style=\"color: #00af00; text-decoration-color: #00af00\">0</span> │\n",
       "├─────────────────────────────────┼────────────────────────┼───────────────┤\n",
       "│ global_average_pooling2d        │ (<span style=\"color: #00d7ff; text-decoration-color: #00d7ff\">None</span>, <span style=\"color: #00af00; text-decoration-color: #00af00\">128</span>)            │             <span style=\"color: #00af00; text-decoration-color: #00af00\">0</span> │\n",
       "│ (<span style=\"color: #0087ff; text-decoration-color: #0087ff\">GlobalAveragePooling2D</span>)        │                        │               │\n",
       "├─────────────────────────────────┼────────────────────────┼───────────────┤\n",
       "│ dense (<span style=\"color: #0087ff; text-decoration-color: #0087ff\">Dense</span>)                   │ (<span style=\"color: #00d7ff; text-decoration-color: #00d7ff\">None</span>, <span style=\"color: #00af00; text-decoration-color: #00af00\">64</span>)             │         <span style=\"color: #00af00; text-decoration-color: #00af00\">8,256</span> │\n",
       "├─────────────────────────────────┼────────────────────────┼───────────────┤\n",
       "│ dense_1 (<span style=\"color: #0087ff; text-decoration-color: #0087ff\">Dense</span>)                 │ (<span style=\"color: #00d7ff; text-decoration-color: #00d7ff\">None</span>, <span style=\"color: #00af00; text-decoration-color: #00af00\">32</span>)             │         <span style=\"color: #00af00; text-decoration-color: #00af00\">2,080</span> │\n",
       "├─────────────────────────────────┼────────────────────────┼───────────────┤\n",
       "│ dense_2 (<span style=\"color: #0087ff; text-decoration-color: #0087ff\">Dense</span>)                 │ (<span style=\"color: #00d7ff; text-decoration-color: #00d7ff\">None</span>, <span style=\"color: #00af00; text-decoration-color: #00af00\">4</span>)              │           <span style=\"color: #00af00; text-decoration-color: #00af00\">132</span> │\n",
       "└─────────────────────────────────┴────────────────────────┴───────────────┘\n",
       "</pre>\n"
      ],
      "text/plain": [
       "┏━━━━━━━━━━━━━━━━━━━━━━━━━━━━━━━━━┳━━━━━━━━━━━━━━━━━━━━━━━━┳━━━━━━━━━━━━━━━┓\n",
       "┃\u001b[1m \u001b[0m\u001b[1mLayer (type)                   \u001b[0m\u001b[1m \u001b[0m┃\u001b[1m \u001b[0m\u001b[1mOutput Shape          \u001b[0m\u001b[1m \u001b[0m┃\u001b[1m \u001b[0m\u001b[1m      Param #\u001b[0m\u001b[1m \u001b[0m┃\n",
       "┡━━━━━━━━━━━━━━━━━━━━━━━━━━━━━━━━━╇━━━━━━━━━━━━━━━━━━━━━━━━╇━━━━━━━━━━━━━━━┩\n",
       "│ rescaling (\u001b[38;5;33mRescaling\u001b[0m)           │ (\u001b[38;5;45mNone\u001b[0m, \u001b[38;5;34m224\u001b[0m, \u001b[38;5;34m224\u001b[0m, \u001b[38;5;34m3\u001b[0m)    │             \u001b[38;5;34m0\u001b[0m │\n",
       "├─────────────────────────────────┼────────────────────────┼───────────────┤\n",
       "│ conv2d (\u001b[38;5;33mConv2D\u001b[0m)                 │ (\u001b[38;5;45mNone\u001b[0m, \u001b[38;5;34m224\u001b[0m, \u001b[38;5;34m224\u001b[0m, \u001b[38;5;34m32\u001b[0m)   │           \u001b[38;5;34m896\u001b[0m │\n",
       "├─────────────────────────────────┼────────────────────────┼───────────────┤\n",
       "│ max_pooling2d (\u001b[38;5;33mMaxPooling2D\u001b[0m)    │ (\u001b[38;5;45mNone\u001b[0m, \u001b[38;5;34m74\u001b[0m, \u001b[38;5;34m74\u001b[0m, \u001b[38;5;34m32\u001b[0m)     │             \u001b[38;5;34m0\u001b[0m │\n",
       "├─────────────────────────────────┼────────────────────────┼───────────────┤\n",
       "│ conv2d_1 (\u001b[38;5;33mConv2D\u001b[0m)               │ (\u001b[38;5;45mNone\u001b[0m, \u001b[38;5;34m74\u001b[0m, \u001b[38;5;34m74\u001b[0m, \u001b[38;5;34m64\u001b[0m)     │        \u001b[38;5;34m51,264\u001b[0m │\n",
       "├─────────────────────────────────┼────────────────────────┼───────────────┤\n",
       "│ max_pooling2d_1 (\u001b[38;5;33mMaxPooling2D\u001b[0m)  │ (\u001b[38;5;45mNone\u001b[0m, \u001b[38;5;34m37\u001b[0m, \u001b[38;5;34m37\u001b[0m, \u001b[38;5;34m64\u001b[0m)     │             \u001b[38;5;34m0\u001b[0m │\n",
       "├─────────────────────────────────┼────────────────────────┼───────────────┤\n",
       "│ conv2d_2 (\u001b[38;5;33mConv2D\u001b[0m)               │ (\u001b[38;5;45mNone\u001b[0m, \u001b[38;5;34m37\u001b[0m, \u001b[38;5;34m37\u001b[0m, \u001b[38;5;34m128\u001b[0m)    │       \u001b[38;5;34m204,928\u001b[0m │\n",
       "├─────────────────────────────────┼────────────────────────┼───────────────┤\n",
       "│ max_pooling2d_2 (\u001b[38;5;33mMaxPooling2D\u001b[0m)  │ (\u001b[38;5;45mNone\u001b[0m, \u001b[38;5;34m18\u001b[0m, \u001b[38;5;34m18\u001b[0m, \u001b[38;5;34m128\u001b[0m)    │             \u001b[38;5;34m0\u001b[0m │\n",
       "├─────────────────────────────────┼────────────────────────┼───────────────┤\n",
       "│ global_average_pooling2d        │ (\u001b[38;5;45mNone\u001b[0m, \u001b[38;5;34m128\u001b[0m)            │             \u001b[38;5;34m0\u001b[0m │\n",
       "│ (\u001b[38;5;33mGlobalAveragePooling2D\u001b[0m)        │                        │               │\n",
       "├─────────────────────────────────┼────────────────────────┼───────────────┤\n",
       "│ dense (\u001b[38;5;33mDense\u001b[0m)                   │ (\u001b[38;5;45mNone\u001b[0m, \u001b[38;5;34m64\u001b[0m)             │         \u001b[38;5;34m8,256\u001b[0m │\n",
       "├─────────────────────────────────┼────────────────────────┼───────────────┤\n",
       "│ dense_1 (\u001b[38;5;33mDense\u001b[0m)                 │ (\u001b[38;5;45mNone\u001b[0m, \u001b[38;5;34m32\u001b[0m)             │         \u001b[38;5;34m2,080\u001b[0m │\n",
       "├─────────────────────────────────┼────────────────────────┼───────────────┤\n",
       "│ dense_2 (\u001b[38;5;33mDense\u001b[0m)                 │ (\u001b[38;5;45mNone\u001b[0m, \u001b[38;5;34m4\u001b[0m)              │           \u001b[38;5;34m132\u001b[0m │\n",
       "└─────────────────────────────────┴────────────────────────┴───────────────┘\n"
      ]
     },
     "metadata": {},
     "output_type": "display_data"
    },
    {
     "data": {
      "text/html": [
       "<pre style=\"white-space:pre;overflow-x:auto;line-height:normal;font-family:Menlo,'DejaVu Sans Mono',consolas,'Courier New',monospace\"><span style=\"font-weight: bold\"> Total params: </span><span style=\"color: #00af00; text-decoration-color: #00af00\">267,556</span> (1.02 MB)\n",
       "</pre>\n"
      ],
      "text/plain": [
       "\u001b[1m Total params: \u001b[0m\u001b[38;5;34m267,556\u001b[0m (1.02 MB)\n"
      ]
     },
     "metadata": {},
     "output_type": "display_data"
    },
    {
     "data": {
      "text/html": [
       "<pre style=\"white-space:pre;overflow-x:auto;line-height:normal;font-family:Menlo,'DejaVu Sans Mono',consolas,'Courier New',monospace\"><span style=\"font-weight: bold\"> Trainable params: </span><span style=\"color: #00af00; text-decoration-color: #00af00\">267,556</span> (1.02 MB)\n",
       "</pre>\n"
      ],
      "text/plain": [
       "\u001b[1m Trainable params: \u001b[0m\u001b[38;5;34m267,556\u001b[0m (1.02 MB)\n"
      ]
     },
     "metadata": {},
     "output_type": "display_data"
    },
    {
     "data": {
      "text/html": [
       "<pre style=\"white-space:pre;overflow-x:auto;line-height:normal;font-family:Menlo,'DejaVu Sans Mono',consolas,'Courier New',monospace\"><span style=\"font-weight: bold\"> Non-trainable params: </span><span style=\"color: #00af00; text-decoration-color: #00af00\">0</span> (0.00 B)\n",
       "</pre>\n"
      ],
      "text/plain": [
       "\u001b[1m Non-trainable params: \u001b[0m\u001b[38;5;34m0\u001b[0m (0.00 B)\n"
      ]
     },
     "metadata": {},
     "output_type": "display_data"
    }
   ],
   "source": [
    "model=models.Sequential([\n",
    "    layers.Rescaling(1./255, input_shape=(224,224,3)),\n",
    "    layers.Conv2D(32,(3,3),activation='relu',padding='same'),\n",
    "    layers.MaxPooling2D((3,3)),\n",
    "    layers.Conv2D(64,(5,5),activation='relu',padding='same'),\n",
    "    layers.MaxPooling2D((2,2)),\n",
    "    layers.Conv2D(128,(5,5),activation='relu',padding='same'),\n",
    "    layers.MaxPooling2D((2,2)),\n",
    "    #layers.Conv2D(256,(5,5),activation='relu',padding='same'),\n",
    "    #layers.MaxPooling2D((2,2)),\n",
    "    \n",
    "\n",
    "    layers.GlobalAveragePooling2D(),\n",
    "\n",
    "    layers.Dense(64,activation='relu'),\n",
    "    layers.Dense(32,activation='relu'),\n",
    "    layers.Dense(4,activation='softmax')\n",
    "]\n",
    ")\n",
    "model.summary()"
   ]
  },
  {
   "cell_type": "code",
   "execution_count": 5,
   "id": "3b8fe423",
   "metadata": {
    "execution": {
     "iopub.execute_input": "2025-08-18T07:30:59.360314Z",
     "iopub.status.busy": "2025-08-18T07:30:59.359765Z",
     "iopub.status.idle": "2025-08-18T07:30:59.363720Z",
     "shell.execute_reply": "2025-08-18T07:30:59.363013Z"
    },
    "papermill": {
     "duration": 0.009031,
     "end_time": "2025-08-18T07:30:59.364894",
     "exception": false,
     "start_time": "2025-08-18T07:30:59.355863",
     "status": "completed"
    },
    "tags": []
   },
   "outputs": [],
   "source": [
    "Check_point=ModelCheckpoint(\n",
    "    \"best_model.h5\",\n",
    "    save_best_only=True,\n",
    "    monitor='val_loss'\n",
    "    \n",
    ")\n",
    "early_stopping=EarlyStopping(\n",
    "    patience=6,\n",
    "    restore_best_weights=True,\n",
    "    monitor='val_loss'\n",
    ")\n"
   ]
  },
  {
   "cell_type": "code",
   "execution_count": 6,
   "id": "358628c8",
   "metadata": {
    "execution": {
     "iopub.execute_input": "2025-08-18T07:30:59.371811Z",
     "iopub.status.busy": "2025-08-18T07:30:59.371591Z",
     "iopub.status.idle": "2025-08-18T07:30:59.384201Z",
     "shell.execute_reply": "2025-08-18T07:30:59.383447Z"
    },
    "papermill": {
     "duration": 0.01741,
     "end_time": "2025-08-18T07:30:59.385463",
     "exception": false,
     "start_time": "2025-08-18T07:30:59.368053",
     "status": "completed"
    },
    "tags": []
   },
   "outputs": [],
   "source": [
    "model.compile(\n",
    "    optimizer=\"adam\",                \n",
    "    loss=\"sparse_categorical_crossentropy\",   \n",
    "    metrics=[\"accuracy\"]              # علشان يطلع الدقة\n",
    ")\n"
   ]
  },
  {
   "cell_type": "code",
   "execution_count": 7,
   "id": "97b8e62f",
   "metadata": {
    "execution": {
     "iopub.execute_input": "2025-08-18T07:30:59.392789Z",
     "iopub.status.busy": "2025-08-18T07:30:59.392516Z",
     "iopub.status.idle": "2025-08-18T07:40:41.809554Z",
     "shell.execute_reply": "2025-08-18T07:40:41.808872Z"
    },
    "papermill": {
     "duration": 582.422286,
     "end_time": "2025-08-18T07:40:41.810954",
     "exception": false,
     "start_time": "2025-08-18T07:30:59.388668",
     "status": "completed"
    },
    "tags": []
   },
   "outputs": [
    {
     "name": "stdout",
     "output_type": "stream",
     "text": [
      "Epoch 1/30\n"
     ]
    },
    {
     "name": "stderr",
     "output_type": "stream",
     "text": [
      "WARNING: All log messages before absl::InitializeLog() is called are written to STDERR\n",
      "I0000 00:00:1755502262.070584      65 service.cc:148] XLA service 0x7c9b5c00d670 initialized for platform CUDA (this does not guarantee that XLA will be used). Devices:\n",
      "I0000 00:00:1755502262.071367      65 service.cc:156]   StreamExecutor device (0): Tesla P100-PCIE-16GB, Compute Capability 6.0\n",
      "I0000 00:00:1755502262.500159      65 cuda_dnn.cc:529] Loaded cuDNN version 90300\n"
     ]
    },
    {
     "name": "stdout",
     "output_type": "stream",
     "text": [
      "\u001b[1m  7/744\u001b[0m \u001b[37m━━━━━━━━━━━━━━━━━━━━\u001b[0m \u001b[1m15s\u001b[0m 21ms/step - accuracy: 0.2064 - loss: 1.4273"
     ]
    },
    {
     "name": "stderr",
     "output_type": "stream",
     "text": [
      "I0000 00:00:1755502266.275284      65 device_compiler.h:188] Compiled cluster using XLA!  This line is logged at most once for the lifetime of the process.\n"
     ]
    },
    {
     "name": "stdout",
     "output_type": "stream",
     "text": [
      "\u001b[1m744/744\u001b[0m \u001b[32m━━━━━━━━━━━━━━━━━━━━\u001b[0m\u001b[37m\u001b[0m \u001b[1m35s\u001b[0m 38ms/step - accuracy: 0.2733 - loss: 1.3564 - val_accuracy: 0.4952 - val_loss: 1.1125\n",
      "Epoch 2/30\n",
      "\u001b[1m744/744\u001b[0m \u001b[32m━━━━━━━━━━━━━━━━━━━━\u001b[0m\u001b[37m\u001b[0m \u001b[1m18s\u001b[0m 24ms/step - accuracy: 0.5197 - loss: 1.0321 - val_accuracy: 0.6115 - val_loss: 0.8260\n",
      "Epoch 3/30\n",
      "\u001b[1m744/744\u001b[0m \u001b[32m━━━━━━━━━━━━━━━━━━━━\u001b[0m\u001b[37m\u001b[0m \u001b[1m17s\u001b[0m 23ms/step - accuracy: 0.6172 - loss: 0.7802 - val_accuracy: 0.6247 - val_loss: 0.7760\n",
      "Epoch 4/30\n",
      "\u001b[1m744/744\u001b[0m \u001b[32m━━━━━━━━━━━━━━━━━━━━\u001b[0m\u001b[37m\u001b[0m \u001b[1m17s\u001b[0m 23ms/step - accuracy: 0.6483 - loss: 0.6952 - val_accuracy: 0.6582 - val_loss: 0.7155\n",
      "Epoch 5/30\n",
      "\u001b[1m744/744\u001b[0m \u001b[32m━━━━━━━━━━━━━━━━━━━━\u001b[0m\u001b[37m\u001b[0m \u001b[1m17s\u001b[0m 23ms/step - accuracy: 0.6746 - loss: 0.6430 - val_accuracy: 0.6943 - val_loss: 0.6446\n",
      "Epoch 6/30\n",
      "\u001b[1m744/744\u001b[0m \u001b[32m━━━━━━━━━━━━━━━━━━━━\u001b[0m\u001b[37m\u001b[0m \u001b[1m17s\u001b[0m 23ms/step - accuracy: 0.7018 - loss: 0.5939 - val_accuracy: 0.7081 - val_loss: 0.6393\n",
      "Epoch 7/30\n",
      "\u001b[1m744/744\u001b[0m \u001b[32m━━━━━━━━━━━━━━━━━━━━\u001b[0m\u001b[37m\u001b[0m \u001b[1m17s\u001b[0m 23ms/step - accuracy: 0.7211 - loss: 0.5608 - val_accuracy: 0.7479 - val_loss: 0.5497\n",
      "Epoch 8/30\n",
      "\u001b[1m744/744\u001b[0m \u001b[32m━━━━━━━━━━━━━━━━━━━━\u001b[0m\u001b[37m\u001b[0m \u001b[1m17s\u001b[0m 23ms/step - accuracy: 0.7471 - loss: 0.5166 - val_accuracy: 0.7387 - val_loss: 0.5507\n",
      "Epoch 9/30\n",
      "\u001b[1m744/744\u001b[0m \u001b[32m━━━━━━━━━━━━━━━━━━━━\u001b[0m\u001b[37m\u001b[0m \u001b[1m17s\u001b[0m 23ms/step - accuracy: 0.7780 - loss: 0.4539 - val_accuracy: 0.7993 - val_loss: 0.4490\n",
      "Epoch 10/30\n",
      "\u001b[1m744/744\u001b[0m \u001b[32m━━━━━━━━━━━━━━━━━━━━\u001b[0m\u001b[37m\u001b[0m \u001b[1m17s\u001b[0m 23ms/step - accuracy: 0.7997 - loss: 0.4146 - val_accuracy: 0.7269 - val_loss: 0.6190\n",
      "Epoch 11/30\n",
      "\u001b[1m744/744\u001b[0m \u001b[32m━━━━━━━━━━━━━━━━━━━━\u001b[0m\u001b[37m\u001b[0m \u001b[1m17s\u001b[0m 23ms/step - accuracy: 0.8188 - loss: 0.3716 - val_accuracy: 0.7969 - val_loss: 0.4699\n",
      "Epoch 12/30\n",
      "\u001b[1m744/744\u001b[0m \u001b[32m━━━━━━━━━━━━━━━━━━━━\u001b[0m\u001b[37m\u001b[0m \u001b[1m17s\u001b[0m 23ms/step - accuracy: 0.8472 - loss: 0.3212 - val_accuracy: 0.8495 - val_loss: 0.3443\n",
      "Epoch 13/30\n",
      "\u001b[1m744/744\u001b[0m \u001b[32m━━━━━━━━━━━━━━━━━━━━\u001b[0m\u001b[37m\u001b[0m \u001b[1m18s\u001b[0m 24ms/step - accuracy: 0.8653 - loss: 0.2888 - val_accuracy: 0.8660 - val_loss: 0.3082\n",
      "Epoch 14/30\n",
      "\u001b[1m744/744\u001b[0m \u001b[32m━━━━━━━━━━━━━━━━━━━━\u001b[0m\u001b[37m\u001b[0m \u001b[1m19s\u001b[0m 26ms/step - accuracy: 0.8806 - loss: 0.2558 - val_accuracy: 0.8890 - val_loss: 0.2728\n",
      "Epoch 15/30\n",
      "\u001b[1m744/744\u001b[0m \u001b[32m━━━━━━━━━━━━━━━━━━━━\u001b[0m\u001b[37m\u001b[0m \u001b[1m19s\u001b[0m 26ms/step - accuracy: 0.8986 - loss: 0.2151 - val_accuracy: 0.9003 - val_loss: 0.2448\n",
      "Epoch 16/30\n",
      "\u001b[1m744/744\u001b[0m \u001b[32m━━━━━━━━━━━━━━━━━━━━\u001b[0m\u001b[37m\u001b[0m \u001b[1m20s\u001b[0m 26ms/step - accuracy: 0.9165 - loss: 0.1852 - val_accuracy: 0.9109 - val_loss: 0.2327\n",
      "Epoch 17/30\n",
      "\u001b[1m744/744\u001b[0m \u001b[32m━━━━━━━━━━━━━━━━━━━━\u001b[0m\u001b[37m\u001b[0m \u001b[1m19s\u001b[0m 26ms/step - accuracy: 0.9302 - loss: 0.1631 - val_accuracy: 0.8968 - val_loss: 0.2499\n",
      "Epoch 18/30\n",
      "\u001b[1m744/744\u001b[0m \u001b[32m━━━━━━━━━━━━━━━━━━━━\u001b[0m\u001b[37m\u001b[0m \u001b[1m19s\u001b[0m 26ms/step - accuracy: 0.9371 - loss: 0.1500 - val_accuracy: 0.9262 - val_loss: 0.1997\n",
      "Epoch 19/30\n",
      "\u001b[1m744/744\u001b[0m \u001b[32m━━━━━━━━━━━━━━━━━━━━\u001b[0m\u001b[37m\u001b[0m \u001b[1m29s\u001b[0m 40ms/step - accuracy: 0.9403 - loss: 0.1360 - val_accuracy: 0.9162 - val_loss: 0.2089\n",
      "Epoch 20/30\n",
      "\u001b[1m744/744\u001b[0m \u001b[32m━━━━━━━━━━━━━━━━━━━━\u001b[0m\u001b[37m\u001b[0m \u001b[1m24s\u001b[0m 32ms/step - accuracy: 0.9583 - loss: 0.1016 - val_accuracy: 0.9076 - val_loss: 0.2439\n",
      "Epoch 21/30\n",
      "\u001b[1m744/744\u001b[0m \u001b[32m━━━━━━━━━━━━━━━━━━━━\u001b[0m\u001b[37m\u001b[0m \u001b[1m20s\u001b[0m 27ms/step - accuracy: 0.9562 - loss: 0.1036 - val_accuracy: 0.9090 - val_loss: 0.2450\n",
      "Epoch 22/30\n",
      "\u001b[1m744/744\u001b[0m \u001b[32m━━━━━━━━━━━━━━━━━━━━\u001b[0m\u001b[37m\u001b[0m \u001b[1m19s\u001b[0m 26ms/step - accuracy: 0.9553 - loss: 0.1050 - val_accuracy: 0.9400 - val_loss: 0.1658\n",
      "Epoch 23/30\n",
      "\u001b[1m744/744\u001b[0m \u001b[32m━━━━━━━━━━━━━━━━━━━━\u001b[0m\u001b[37m\u001b[0m \u001b[1m19s\u001b[0m 26ms/step - accuracy: 0.9746 - loss: 0.0647 - val_accuracy: 0.9394 - val_loss: 0.1768\n",
      "Epoch 24/30\n",
      "\u001b[1m744/744\u001b[0m \u001b[32m━━━━━━━━━━━━━━━━━━━━\u001b[0m\u001b[37m\u001b[0m \u001b[1m19s\u001b[0m 26ms/step - accuracy: 0.9702 - loss: 0.0712 - val_accuracy: 0.9543 - val_loss: 0.1353\n",
      "Epoch 25/30\n",
      "\u001b[1m744/744\u001b[0m \u001b[32m━━━━━━━━━━━━━━━━━━━━\u001b[0m\u001b[37m\u001b[0m \u001b[1m19s\u001b[0m 26ms/step - accuracy: 0.9738 - loss: 0.0645 - val_accuracy: 0.9413 - val_loss: 0.1703\n",
      "Epoch 26/30\n",
      "\u001b[1m744/744\u001b[0m \u001b[32m━━━━━━━━━━━━━━━━━━━━\u001b[0m\u001b[37m\u001b[0m \u001b[1m22s\u001b[0m 29ms/step - accuracy: 0.9706 - loss: 0.0757 - val_accuracy: 0.9435 - val_loss: 0.1567\n",
      "Epoch 27/30\n",
      "\u001b[1m744/744\u001b[0m \u001b[32m━━━━━━━━━━━━━━━━━━━━\u001b[0m\u001b[37m\u001b[0m \u001b[1m17s\u001b[0m 23ms/step - accuracy: 0.9722 - loss: 0.0694 - val_accuracy: 0.9508 - val_loss: 0.1459\n",
      "Epoch 28/30\n",
      "\u001b[1m744/744\u001b[0m \u001b[32m━━━━━━━━━━━━━━━━━━━━\u001b[0m\u001b[37m\u001b[0m \u001b[1m17s\u001b[0m 23ms/step - accuracy: 0.9837 - loss: 0.0404 - val_accuracy: 0.9435 - val_loss: 0.1615\n",
      "Epoch 29/30\n",
      "\u001b[1m744/744\u001b[0m \u001b[32m━━━━━━━━━━━━━━━━━━━━\u001b[0m\u001b[37m\u001b[0m \u001b[1m17s\u001b[0m 23ms/step - accuracy: 0.9837 - loss: 0.0455 - val_accuracy: 0.9551 - val_loss: 0.1264\n",
      "Epoch 30/30\n",
      "\u001b[1m744/744\u001b[0m \u001b[32m━━━━━━━━━━━━━━━━━━━━\u001b[0m\u001b[37m\u001b[0m \u001b[1m17s\u001b[0m 23ms/step - accuracy: 0.9875 - loss: 0.0344 - val_accuracy: 0.9582 - val_loss: 0.1284\n"
     ]
    }
   ],
   "source": [
    "history=model.fit(\n",
    "    train_ds,\n",
    "    validation_data=val_ds,\n",
    "    epochs=30,\n",
    "    class_weight=class_weight,\n",
    "    callbacks=[Check_point,early_stopping]\n",
    ")"
   ]
  },
  {
   "cell_type": "code",
   "execution_count": 8,
   "id": "8f497065",
   "metadata": {
    "execution": {
     "iopub.execute_input": "2025-08-18T07:40:42.532312Z",
     "iopub.status.busy": "2025-08-18T07:40:42.531343Z",
     "iopub.status.idle": "2025-08-18T07:40:42.574545Z",
     "shell.execute_reply": "2025-08-18T07:40:42.573753Z"
    },
    "papermill": {
     "duration": 0.436664,
     "end_time": "2025-08-18T07:40:42.575799",
     "exception": false,
     "start_time": "2025-08-18T07:40:42.139135",
     "status": "completed"
    },
    "tags": []
   },
   "outputs": [],
   "source": [
    "model.save(\"alz_model.h5\")\n"
   ]
  },
  {
   "cell_type": "code",
   "execution_count": 9,
   "id": "80c0966e",
   "metadata": {
    "execution": {
     "iopub.execute_input": "2025-08-18T07:40:43.219507Z",
     "iopub.status.busy": "2025-08-18T07:40:43.219209Z",
     "iopub.status.idle": "2025-08-18T07:40:43.223370Z",
     "shell.execute_reply": "2025-08-18T07:40:43.222512Z"
    },
    "papermill": {
     "duration": 0.325102,
     "end_time": "2025-08-18T07:40:43.224544",
     "exception": false,
     "start_time": "2025-08-18T07:40:42.899442",
     "status": "completed"
    },
    "tags": []
   },
   "outputs": [
    {
     "name": "stdout",
     "output_type": "stream",
     "text": [
      "dict_keys(['accuracy', 'loss', 'val_accuracy', 'val_loss'])\n"
     ]
    }
   ],
   "source": [
    "print(history.history.keys())\n"
   ]
  },
  {
   "cell_type": "code",
   "execution_count": 10,
   "id": "8b352041",
   "metadata": {
    "execution": {
     "iopub.execute_input": "2025-08-18T07:40:43.935060Z",
     "iopub.status.busy": "2025-08-18T07:40:43.934752Z",
     "iopub.status.idle": "2025-08-18T07:40:44.326624Z",
     "shell.execute_reply": "2025-08-18T07:40:44.325664Z"
    },
    "papermill": {
     "duration": 0.777556,
     "end_time": "2025-08-18T07:40:44.328288",
     "exception": false,
     "start_time": "2025-08-18T07:40:43.550732",
     "status": "completed"
    },
    "tags": []
   },
   "outputs": [
    {
     "data": {
      "image/png": "[encoded data removed]",
      "text/plain": [
       "<Figure size 1000x400 with 2 Axes>"
      ]
     },
     "metadata": {},
     "output_type": "display_data"
    }
   ],
   "source": [
    "plt.figure(figsize=(10,4))\n",
    "plt.subplot(1,2,1)\n",
    "plt.plot(history.history['loss'],label='Train loss')\n",
    "plt.plot(history.history['val_loss'],label='Val loss')\n",
    "plt.xlabel(\"Epoch\")\n",
    "plt.ylabel(\"Loss\")\n",
    "plt.legend()\n",
    "plt.title('Training vs Validation Loss')\n",
    "\n",
    "plt.subplot(1,2,2)\n",
    "plt.plot(history.history['accuracy'],label='Train accuracy')\n",
    "plt.plot(history.history['val_accuracy'],label='val accuracy')\n",
    "plt.xlabel(\"Epoch\")\n",
    "plt.ylabel(\"accuracy\")\n",
    "plt.legend()\n",
    "plt.title('Training vs Validation accuracy')\n",
    "plt.show()"
   ]
  },
  {
   "cell_type": "code",
   "execution_count": 11,
   "id": "85349567",
   "metadata": {
    "execution": {
     "iopub.execute_input": "2025-08-18T07:40:44.985361Z",
     "iopub.status.busy": "2025-08-18T07:40:44.985062Z",
     "iopub.status.idle": "2025-08-18T07:41:01.003496Z",
     "shell.execute_reply": "2025-08-18T07:41:01.002668Z"
    },
    "papermill": {
     "duration": 16.345499,
     "end_time": "2025-08-18T07:41:01.004666",
     "exception": false,
     "start_time": "2025-08-18T07:40:44.659167",
     "status": "completed"
    },
    "tags": []
   },
   "outputs": [
    {
     "name": "stdout",
     "output_type": "stream",
     "text": [
      "\u001b[1m160/160\u001b[0m \u001b[32m━━━━━━━━━━━━━━━━━━━━\u001b[0m\u001b[37m\u001b[0m \u001b[1m10s\u001b[0m 64ms/step - accuracy: 0.9679 - loss: 0.1095\n",
      "Test Loss: 0.13349387049674988\n",
      "Test Accuracy: 0.9586193561553955\n",
      "\u001b[1m160/160\u001b[0m \u001b[32m━━━━━━━━━━━━━━━━━━━━\u001b[0m\u001b[37m\u001b[0m \u001b[1m3s\u001b[0m 17ms/step\n",
      "                  precision    recall  f1-score   support\n",
      "\n",
      "    MildDemented       0.97      0.97      0.97      1344\n",
      "ModerateDemented       1.00      1.00      1.00       971\n",
      "     NonDemented       0.98      0.91      0.95      1440\n",
      "VeryMildDemented       0.90      0.97      0.93      1344\n",
      "\n",
      "        accuracy                           0.96      5099\n",
      "       macro avg       0.96      0.96      0.96      5099\n",
      "    weighted avg       0.96      0.96      0.96      5099\n",
      "\n"
     ]
    },
    {
     "data": {
      "image/png": "[encoded data removed]",
      "text/plain": [
       "<Figure size 600x500 with 2 Axes>"
      ]
     },
     "metadata": {},
     "output_type": "display_data"
    }
   ],
   "source": [
    "test_loss, test_accuracy = model.evaluate(test_ds)\n",
    "print(\"Test Loss:\", test_loss)\n",
    "print(\"Test Accuracy:\", test_accuracy)\n",
    "\n",
    "class_names = train_ds.class_names\n",
    "\n",
    "# القيم الحقيقية\n",
    "y_true = np.concatenate([y for x, y in test_ds], axis=0)\n",
    "\n",
    "# القيم المتوقعة\n",
    "y_pred = model.predict(test_ds)\n",
    "y_pred_classes = np.argmax(y_pred, axis=1)\n",
    "\n",
    "# تقرير الأداء\n",
    "print(classification_report(y_true, y_pred_classes, target_names=class_names))\n",
    "\n",
    "\n",
    "\n",
    "cm = confusion_matrix(y_true, y_pred_classes)\n",
    "\n",
    "\n",
    "plt.figure(figsize=(6,5))\n",
    "sns.heatmap(cm, annot=True, fmt=\"d\", cmap=\"Blues\",\n",
    "            xticklabels=class_names,\n",
    "            yticklabels=class_names)\n",
    "plt.xlabel(\"Predicted Label\")\n",
    "plt.ylabel(\"True Label\")\n",
    "plt.title(\"Confusion Matrix\")\n",
    "plt.show()\n"
   ]
  },
  {
   "cell_type": "code",
   "execution_count": 12,
   "id": "9245073f",
   "metadata": {
    "execution": {
     "iopub.execute_input": "2025-08-18T07:41:01.735321Z",
     "iopub.status.busy": "2025-08-18T07:41:01.735029Z",
     "iopub.status.idle": "2025-08-18T07:41:02.028203Z",
     "shell.execute_reply": "2025-08-18T07:41:02.027259Z"
    },
    "papermill": {
     "duration": 0.689396,
     "end_time": "2025-08-18T07:41:02.029468",
     "exception": true,
     "start_time": "2025-08-18T07:41:01.340072",
     "status": "failed"
    },
    "tags": []
   },
   "outputs": [
    {
     "ename": "NameError",
     "evalue": "name 'kaggle' is not defined",
     "output_type": "error",
     "traceback": [
      "\u001b[0;31m---------------------------------------------------------------------------\u001b[0m",
      "\u001b[0;31mNameError\u001b[0m                                 Traceback (most recent call last)",
      "\u001b[0;32m/tmp/ipykernel_19/3454498561.py\u001b[0m in \u001b[0;36m<cell line: 0>\u001b[0;34m()\u001b[0m\n\u001b[0;32m----> 1\u001b[0;31m \u001b[0mkaggle\u001b[0m\u001b[0;34m/\u001b[0m\u001b[0mworking\u001b[0m\u001b[0;34m/\u001b[0m\u001b[0mbest_model\u001b[0m\u001b[0;34m.\u001b[0m\u001b[0mh5\u001b[0m\u001b[0;34m(\u001b[0m\u001b[0;34m)\u001b[0m\u001b[0;34m\u001b[0m\u001b[0;34m\u001b[0m\u001b[0m\n\u001b[0m",
      "\u001b[0;31mNameError\u001b[0m: name 'kaggle' is not defined"
     ]
    }
   ],
   "source": [
    "/kaggle/working/best_model.h5"
   ]
  }
 ],
 "metadata": {
  "kaggle": {
   "accelerator": "gpu",
   "dataSources": [
    {
     "datasetId": 7929000,
     "sourceId": 12567286,
     "sourceType": "datasetVersion"
    }
   ],
   "dockerImageVersionId": 31089,
   "isGpuEnabled": true,
   "isInternetEnabled": false,
   "language": "python",
   "sourceType": "notebook"
  },
  "kernelspec": {
   "display_name": "Python 3",
   "language": "python",
   "name": "python3"
  },
  "language_info": {
   "codemirror_mode": {
    "name": "ipython",
    "version": 3
   },
   "file_extension": ".py",
   "mimetype": "text/x-python",
   "name": "python",
   "nbconvert_exporter": "python",
   "pygments_lexer": "ipython3",
   "version": "3.11.13"
  },
  "papermill": {
   "default_parameters": {},
   "duration": 715.677689,
   "end_time": "2025-08-18T07:41:05.914763",
   "environment_variables": {},
   "exception": true,
   "input_path": "__notebook__.ipynb",
   "output_path": "__notebook__.ipynb",
   "parameters": {},
   "start_time": "2025-08-18T07:29:10.237074",
   "version": "2.6.0"
  }
 },
 "nbformat": 4,
 "nbformat_minor": 5
}
